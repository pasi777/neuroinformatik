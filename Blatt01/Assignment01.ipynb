{
 "cells": [
  {
   "cell_type": "markdown",
   "metadata": {},
   "source": [
    "Übung 01"
   ]
  },
  {
   "cell_type": "code",
   "execution_count": 1,
   "metadata": {},
   "outputs": [
    {
     "data": {
      "text/plain": [
       "<Figure size 700x700 with 4 Axes>"
      ]
     },
     "metadata": {},
     "output_type": "display_data"
    },
    {
     "data": {
      "application/vnd.jupyter.widget-view+json": {
       "model_id": "2d37c87c30b64fa5b47713ba3d879ac1",
       "version_major": 2,
       "version_minor": 0
      },
      "text/plain": [
       "interactive(children=(FloatSlider(value=1.0, description='tau', max=10.0, min=1e-05, step=0.001), FloatSlider(…"
      ]
     },
     "metadata": {},
     "output_type": "display_data"
    },
    {
     "data": {
      "text/plain": [
       "<function __main__.plot_model(tau, weight)>"
      ]
     },
     "execution_count": 1,
     "metadata": {},
     "output_type": "execute_result"
    }
   ],
   "source": [
    "# Übung_01\n",
    "\n",
    "# Aufgabe 3\n",
    "\n",
    "\n",
    "    \n",
    "def lin_model(tau, weight) :\n",
    "    u_1 = [0]\n",
    "    u_2 = [0]\n",
    "    u_1_abl = [0]\n",
    "    u_2_abl = [0]\n",
    "    t_delta = 0.1\n",
    "    t = 0\n",
    "    \n",
    "    while t <= 30 :\n",
    "        if  (t >= 5 and t <= 15) :\n",
    "            x_1 = 1\n",
    "        else : x_1 = 0\n",
    "        u_1_abl_helper = 1/tau * (-u_1[-1] + x_1)\n",
    "        u_1_helper =  u_1_abl_helper * t_delta + u_1[-1]\n",
    "        u_2_abl_helper = 1/tau * ( -u_2[-1] + weight * u_1_helper)\n",
    "        u_2_helper =  u_2_abl_helper * t_delta + u_2[-1] \n",
    "        \n",
    "        u_1_abl += [u_1_abl_helper]\n",
    "        u_2_abl += [u_2_abl_helper]\n",
    "        u_1 += [u_1_helper]\n",
    "        u_2 += [u_2_helper]\n",
    "        \n",
    "        t += t_delta\n",
    "        \n",
    "        \n",
    "    \n",
    "    return[ u_1_abl, u_2_abl,u_1, u_2]\n",
    "    \n",
    "    \n",
    "\n",
    "\n",
    "\n",
    "\n",
    "\n",
    "# Aufgabe 4a\n",
    "\n",
    "\n",
    "import matplotlib.pyplot as plt\n",
    "import numpy as np\n",
    "\n",
    "def plot_model(tau, weight) :\n",
    "    [u_1_abl, u_2_abl,u_1, u_2] = lin_model(tau,weight)\n",
    "    x = np.arange(0,30.1,0.1)\n",
    "\n",
    "    fig = plt.figure(figsize=(7, 7))\n",
    "    sub1 = fig.add_subplot(221)\n",
    "    sub1.plot(x,u_1)\n",
    "    sub1.set_title('Funktion u_1')\n",
    "    \n",
    "    sub2 = fig.add_subplot(222)\n",
    "    sub2.plot(x,u_2)\n",
    "    sub2.set_title('Funktion u_2')\n",
    "    \n",
    "    sub3 = fig.add_subplot(223)\n",
    "    sub3.plot(x,u_1_abl)\n",
    "    sub3.set_title('Ableitung von u_1')\n",
    "    \n",
    "    sub4 = fig.add_subplot(224)\n",
    "    sub4.plot(x,u_2_abl)\n",
    "    sub4.set_title('Ableitung von u_2')\n",
    "    \n",
    "\n",
    "    \n",
    "    plt.show()\n",
    "    \n",
    "    \n",
    "plot_model(1, 1)\n",
    "\n",
    "\n",
    "#Aufgabe 4 b\n",
    "import ipywidgets as widgets\n",
    "from ipywidgets import interact\n",
    "\n",
    "\n",
    "\n",
    "interact(plot_model, tau = widgets.FloatSlider(min=0.00001,max=10,step=0.001,value=1), weight = widgets.FloatSlider(min=0.001,max=2,step=0.00001,value=1))\n"
   ]
  },
  {
   "cell_type": "code",
   "execution_count": null,
   "metadata": {},
   "outputs": [],
   "source": []
  }
 ],
 "metadata": {
  "kernelspec": {
   "display_name": "Python 3",
   "language": "python",
   "name": "python3"
  },
  "language_info": {
   "codemirror_mode": {
    "name": "ipython",
    "version": 3
   },
   "file_extension": ".py",
   "mimetype": "text/x-python",
   "name": "python",
   "nbconvert_exporter": "python",
   "pygments_lexer": "ipython3",
   "version": "3.7.3"
  }
 },
 "nbformat": 4,
 "nbformat_minor": 2
}
