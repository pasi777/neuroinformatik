{
 "cells": [
  {
   "cell_type": "markdown",
   "metadata": {},
   "source": [
    "# Perzeptron-Lernalgorithmus"
   ]
  },
  {
   "cell_type": "code",
   "execution_count": 1,
   "metadata": {},
   "outputs": [],
   "source": [
    "import numpy as np\n",
    "import matplotlib.pyplot as plt\n",
    "import ipywidgets as widgets\n",
    "from ipywidgets import interact\n",
    "from IPython.display import display"
   ]
  },
  {
   "cell_type": "code",
   "execution_count": 2,
   "metadata": {
    "scrolled": true
   },
   "outputs": [
    {
     "data": {
      "text/plain": [
       "(10, 3)"
      ]
     },
     "execution_count": 2,
     "metadata": {},
     "output_type": "execute_result"
    }
   ],
   "source": [
    "data = np.array([[-3, 1, -1], \n",
    "                 [-3, 3, 1], \n",
    "                 [-2, 1, -1], \n",
    "                 [-2, 4, 1], \n",
    "                 [-1, 3, 1], \n",
    "                 [-1, 4, 1], \n",
    "                 [2, 2, -1], \n",
    "                 [2, 4, 1], \n",
    "                 [3, 2, -1], \n",
    "                 [4, 1, -1]])\n",
    "data.shape"
   ]
  },
  {
   "cell_type": "markdown",
   "metadata": {},
   "source": [
    "## Teil 1: Implementierung"
   ]
  },
  {
   "cell_type": "code",
   "execution_count": 44,
   "metadata": {},
   "outputs": [
    {
     "name": "stdout",
     "output_type": "stream",
     "text": [
      "[0. 0. 0.]\n",
      "[-3.  3.  1.]\n",
      "[-1.  2.  2.]\n",
      "[-1.  2.  2.]\n",
      "[-1.  2.  2.]\n",
      "[-1.  2.  2.]\n",
      "[-1.  2.  2.]\n",
      "[-1.  2.  2.]\n",
      "[-1.  2.  2.]\n",
      "[-1.  2.  2.]\n",
      "[2. 1. 3.]\n",
      "[-1.  4.  4.]\n",
      "[1. 3. 5.]\n",
      "[1. 3. 5.]\n",
      "[1. 3. 5.]\n",
      "[1. 3. 5.]\n",
      "[-1.  1.  6.]\n",
      "[-1.  1.  6.]\n",
      "[-1.  1.  6.]\n",
      "[-1.  1.  6.]\n",
      "[-1.  1.  6.]\n",
      "[-1.  1.  6.]\n",
      "[-1.  1.  6.]\n",
      "[-1.  1.  6.]\n",
      "[-1.  1.  6.]\n",
      "[-1.  1.  6.]\n",
      "[-1.  1.  6.]\n",
      "[-1.  1.  6.]\n",
      "[-1.  1.  6.]\n",
      "[-1.  1.  6.]\n"
     ]
    }
   ],
   "source": [
    "def w(pp,weight):\n",
    "    res=0\n",
    "    for i in range(len(pp)):\n",
    "        res+=pp[i]*weight[i]\n",
    "    return (res>0)\n",
    "\n",
    "def newW(weight,eta,pp):\n",
    "    for i in range(len(pp)):\n",
    "        weight[i]+=eta*pp[i]\n",
    "    return weight\n",
    "\n",
    "weight_vector = np.zeros(3, dtype=np.float32)\n",
    "weight_vectors = []\n",
    "eta = 1\n",
    "change = True\n",
    "\n",
    "while change:\n",
    "    change = False\n",
    "    for p in data:\n",
    "        if (p[2]==1) & (w(p,weight_vector)==False):\n",
    "            weight_vector=newW(weight_vector,eta,p)\n",
    "            change = True\n",
    "        elif (p[2]==-1) & w(p,weight_vector):\n",
    "            weight_vector = newW(weight_vector, -eta, p)\n",
    "            change = True\n",
    "        #print (weight_vector)\n",
    "        weight_vectors.append(weight_vector)"
   ]
  },
  {
   "cell_type": "markdown",
   "metadata": {},
   "source": [
    "## Teil 2: Darstellung"
   ]
  },
  {
   "cell_type": "code",
   "execution_count": 63,
   "metadata": {
    "scrolled": false
   },
   "outputs": [
    {
     "data": {
      "application/vnd.jupyter.widget-view+json": {
       "model_id": "24988e1be1a84746b3a11072befadeea",
       "version_major": 2,
       "version_minor": 0
      },
      "text/plain": [
       "interactive(children=(IntSlider(value=0, description='index', max=29), Output()), _dom_classes=('widget-intera…"
      ]
     },
     "metadata": {},
     "output_type": "display_data"
    },
    {
     "data": {
      "text/plain": [
       "<function __main__.plot_vectors(index)>"
      ]
     },
     "execution_count": 63,
     "metadata": {},
     "output_type": "execute_result"
    }
   ],
   "source": [
    "def plot_vectors(index):\n",
    "    fig = plt.figure(figsize=(7, 7))\n",
    "    sub1 = fig.add_subplot(221)\n",
    "    sub1.plot(weight_vectors[index])\n",
    "    sub1.set_title('Perceptron Learning Algorithm')\n",
    "    plt.show()     \n",
    "        \n",
    "interact(plot_vectors, index = widgets.IntSlider(min=0,max=len(weight_vectors)-1,step=1,value=0))\n",
    "\n",
    "\n",
    "#axamp = plt.axes()\n",
    "#samp = widgets.IntSlider()\n",
    "#plt.plot(weight_vector)\n",
    "#plt.show()"
   ]
  },
  {
   "cell_type": "code",
   "execution_count": null,
   "metadata": {},
   "outputs": [],
   "source": []
  }
 ],
 "metadata": {
  "kernelspec": {
   "display_name": "Python 3",
   "language": "python",
   "name": "python3"
  },
  "language_info": {
   "codemirror_mode": {
    "name": "ipython",
    "version": 3
   },
   "file_extension": ".py",
   "mimetype": "text/x-python",
   "name": "python",
   "nbconvert_exporter": "python",
   "pygments_lexer": "ipython3",
   "version": "3.7.3"
  }
 },
 "nbformat": 4,
 "nbformat_minor": 2
}
