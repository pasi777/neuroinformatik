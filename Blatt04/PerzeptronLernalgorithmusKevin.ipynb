{
 "cells": [
  {
   "cell_type": "markdown",
   "metadata": {},
   "source": [
    "# Perzeptron-Lernalgorithmus"
   ]
  },
  {
   "cell_type": "code",
   "execution_count": 1,
   "metadata": {},
   "outputs": [],
   "source": [
    "import numpy as np\n",
    "import matplotlib.pyplot as plt\n",
    "import ipywidgets as widgets\n",
    "from ipywidgets import interact\n",
    "from IPython.display import display"
   ]
  },
  {
   "cell_type": "code",
   "execution_count": 2,
   "metadata": {},
   "outputs": [
    {
     "data": {
      "text/plain": [
       "(10, 3)"
      ]
     },
     "execution_count": 2,
     "metadata": {},
     "output_type": "execute_result"
    }
   ],
   "source": [
    "data = np.array([[-3, 1, -1], \n",
    "                 [-3, 3, 1], \n",
    "                 [-2, 1, -1], \n",
    "                 [-2, 4, 1], \n",
    "                 [-1, 3, 1], \n",
    "                 [-1, 4, 1], \n",
    "                 [2, 2, -1], \n",
    "                 [2, 4, 1], \n",
    "                 [3, 2, -1], \n",
    "                 [4, 1, -1]])\n",
    "data.shape"
   ]
  },
  {
   "cell_type": "markdown",
   "metadata": {},
   "source": [
    "## Teil 1: Implementierung"
   ]
  },
  {
   "cell_type": "code",
   "execution_count": 4,
   "metadata": {},
   "outputs": [],
   "source": [
    "weight_vector = np.zeros(3, dtype=np.float32)\n",  
    "weight_vectors = []\n",
    "eta = 1\n",
    "change = True"
    "\n", ################################################################################################
    "while change:\n",
    "    change = False\n",
    "    for p in data:\n",
    "        if p[2] == 1 & :\n",
    "            change = True\n",
    "        elif p[2] == -1 & :\n",
    "            change = True\n",
    "        weight_vectors.append(np.copy(weight_vector))"
   ]
  },
  {
   "cell_type": "markdown",
   "metadata": {},
   "source": [
    "## Teil 2: Darstellung"
   ]
  }
 ],
 "metadata": {
  "kernelspec": {
   "display_name": "Python 3",
   "language": "python",
   "name": "python3"
  },
  "language_info": {
   "codemirror_mode": {
    "name": "ipython",
    "version": 3
   },
   "file_extension": ".py",
   "mimetype": "text/x-python",
   "name": "python",
   "nbconvert_exporter": "python",
   "pygments_lexer": "ipython3",
   "version": "3.6.7"
  }
 },
 "nbformat": 4,
 "nbformat_minor": 2
}
