{
 "cells": [
  {
   "cell_type": "markdown",
   "metadata": {},
   "source": [
    "# Perzeptron-Lernalgorithmus"
   ]
  },
  {
   "cell_type": "code",
   "execution_count": 1,
   "metadata": {},
   "outputs": [],
   "source": [
    "import numpy as np\n",
    "import matplotlib.pyplot as plt\n",
    "import ipywidgets as widgets\n",
    "from ipywidgets import interact\n",
    "from IPython.display import display"
   ]
  },
  {
   "cell_type": "code",
   "execution_count": 2,
   "metadata": {},
   "outputs": [
    {
     "data": {
      "text/plain": [
       "(10, 3)"
      ]
     },
     "execution_count": 2,
     "metadata": {},
     "output_type": "execute_result"
    }
   ],
   "source": [
    "data = np.array([[-3, 1, -1], \n",
    "                 [-3, 3, 1], \n",
    "                 [-2, 1, -1], \n",
    "                 [-2, 4, 1], \n",
    "                 [-1, 3, 1], \n",
    "                 [-1, 4, 1], \n",
    "                 [2, 2, -1], \n",
    "                 [2, 4, 1], \n",
    "                 [3, 2, -1], \n",
    "                 [4, 1, -1]])\n",
    "data.shape"
   ]
  },
  {
   "cell_type": "markdown",
   "metadata": {},
   "source": [
    "## Teil 1: Implementierung"
   ]
  },
  {
   "cell_type": "code",
   "execution_count": 3,
   "metadata": {},
   "outputs": [],
   "source": [
    "weight_vector = np.zeros(3, dtype=np.float32)\n",
    "weight_vectors = []\n",
    "eta = 1\n",
    "change = True\n",
    "\n",
    "while change:\n",
    "    change = False\n",
    "    for p in data:\n",
    "        if p[2] == 1 and (np.dot(p[:2],weight_vector[1:]) + weight_vector[0]) < 0:\n",
    "            weight_vector[1:] += eta*p[:2]\n",
    "            weight_vector[0] += eta\n",
    "            change = True\n",
    "        elif p[2] == -1 and (np.dot(p[:2],weight_vector[1:]) + weight_vector[0]) >= 0:\n",
    "            weight_vector[1:] -= eta*p[:2]\n",
    "            weight_vector[0] -= eta\n",
    "            change = True\n",
    "        weight_vectors.append(np.copy(weight_vector))"
   ]
  },
  {
   "cell_type": "markdown",
   "metadata": {},
   "source": [
    "## Teil 2: Darstellung"
   ]
  },
  {
   "cell_type": "code",
   "execution_count": 42,
   "metadata": {},
   "outputs": [
    {
     "data": {
      "application/vnd.jupyter.widget-view+json": {
       "model_id": "b67bece07eb34fa98aa78ab71109e4f8",
       "version_major": 2,
       "version_minor": 0
      },
      "text/plain": [
       "interactive(children=(IntSlider(value=0, description='step', max=49), Output()), _dom_classes=('widget-interac…"
      ]
     },
     "metadata": {},
     "output_type": "display_data"
    }
   ],
   "source": [
    "x = np.array([e[0] for e in data])\n",
    "y = np.array([e[1] for e in data])\n",
    "\n",
    "\n",
    "def plot_model(step):\n",
    "    # prepare plot\n",
    "    plt.clf()\n",
    "    plt.gca().set_aspect('equal', adjustable='box')\n",
    "    plt.axis([-5,5,-5,5])\n",
    "    plt.grid(True)\n",
    "    \n",
    "    # insert points and mark current point\n",
    "    i = 0\n",
    "    j = 0\n",
    "    for p in range(len(data)):\n",
    "        if data[p][2] == 1:\n",
    "            if p == step % 10:\n",
    "                plt.scatter(data[p][0],data[p][1], c ='r',marker = '*', label = 'current point')\n",
    "            else:\n",
    "                plt.scatter(data[p][0],data[p][1], c ='r',marker = '2',label= \"omega 1\" if i == 0 else \"\")\n",
    "                i = 1\n",
    "        else:\n",
    "            if p == step % 10:\n",
    "                plt.scatter(data[p][0],data[p][1], c ='b', marker = '*', label = 'current point')        \n",
    "            else:\n",
    "                plt.scatter(data[p][0],data[p][1], c ='b', marker = '1', label= \"omega -1\" if j == 0 else \"\")\n",
    "                j = 1\n",
    "\n",
    "\n",
    "    # draw weight vector\n",
    "    plt.quiver([0], [0], [weight_vectors[step][1]], [weight_vectors[step][2]] ,units='xy' ,scale=1, color = 'r',label = 'weight vector')\n",
    "    \n",
    "    # draw separation line\n",
    "    if weight_vectors[step][2] == 0:\n",
    "        plt.axvline(x=-weight_vectors[step][1]/weight_vectors[step][0], label = 'Sep.line')\n",
    "    else:\n",
    "        x = np.arange(-5, 6, 1)\n",
    "        plt.plot(x,-(weight_vectors[step][1]*x + weight_vectors[step][0])/weight_vectors[step][2], label = 'Sep.line')\n",
    "        \n",
    "    # legende \n",
    "    plt.legend()\n",
    "    \n",
    "    # labels\n",
    "    plt.xlabel('x1')\n",
    "    plt.ylabel('x2')\n",
    "    plt.title('w0 = ' + str(weight_vectors[step][0]) + '    w = ' + str(weight_vectors[step][1:]))\n",
    "    \n",
    "    plt.show()\n",
    "\n",
    "step_slider = widgets.IntSlider(min=0, max=len(weight_vectors) - 1, description='step')\n",
    "interact(plot_model, step=step_slider);"
   ]
  },
  {
   "cell_type": "code",
   "execution_count": null,
   "metadata": {},
   "outputs": [],
   "source": []
  },
  {
   "cell_type": "code",
   "execution_count": null,
   "metadata": {},
   "outputs": [],
   "source": []
  }
 ],
 "metadata": {
  "kernelspec": {
   "display_name": "Python 3",
   "language": "python",
   "name": "python3"
  },
  "language_info": {
   "codemirror_mode": {
    "name": "ipython",
    "version": 3
   },
   "file_extension": ".py",
   "mimetype": "text/x-python",
   "name": "python",
   "nbconvert_exporter": "python",
   "pygments_lexer": "ipython3",
   "version": "3.7.3"
  }
 },
 "nbformat": 4,
 "nbformat_minor": 2
}
