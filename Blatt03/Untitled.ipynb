{
 "cells": [
  {
   "cell_type": "code",
   "execution_count": 16,
   "metadata": {},
   "outputs": [],
   "source": [
    "# Uebung_02\n",
    "import math\n",
    "# Aufgabe 1.3    \n",
    "def f(x):\n",
    "    return (1/(1+math.exp(-x)))\n",
    "def fddx(x):\n",
    "    return (math.exp(-x)/pow((1+math.exp(-x)),2))\n",
    "\n",
    "def gradient(w,b):\n",
    "    a = [[-1,0,1,2],[0,1,0,0]]\n",
    "    gradW = 0\n",
    "    gradB = 0\n",
    "    for i in range(0,4):\n",
    "        grad = fddx(w*a[0][i]+b)*(f(w*a[0][i])-a[1][i])\n",
    "        gradB+=grad\n",
    "        gradW+=grad*a[0][i]\n",
    "    return [gradW, gradB]"
   ]
  },
  {
   "cell_type": "code",
   "execution_count": 21,
   "metadata": {},
   "outputs": [
    {
     "data": {
      "text/plain": [
       "[-0.012912472899047959, -0.009675856966408113]"
      ]
     },
     "execution_count": 21,
     "metadata": {},
     "output_type": "execute_result"
    }
   ],
   "source": [
    "# 1.3 a)\n",
    "gradient(-1,3)\n"
   ]
  },
  {
   "cell_type": "code",
   "execution_count": 30,
   "metadata": {},
   "outputs": [],
   "source": [
    "# 1.3 c)\n",
    "def iterate(w,b,eta):\n",
    "    grad = gradient(w,b)\n",
    "    w+=eta*grad[0]\n",
    "    b+=eta*grad[1]\n",
    "    return [w,b]"
   ]
  },
  {
   "cell_type": "code",
   "execution_count": 31,
   "metadata": {},
   "outputs": [
    {
     "data": {
      "text/plain": [
       "[-1.0103299783192383, 2.9922593144268737]"
      ]
     },
     "execution_count": 31,
     "metadata": {},
     "output_type": "execute_result"
    }
   ],
   "source": [
    "iterate(-1,3,0.8)"
   ]
  },
  {
   "cell_type": "code",
   "execution_count": null,
   "metadata": {},
   "outputs": [],
   "source": []
  }
 ],
 "metadata": {
  "kernelspec": {
   "display_name": "Python 3",
   "language": "python",
   "name": "python3"
  },
  "language_info": {
   "codemirror_mode": {
    "name": "ipython",
    "version": 3
   },
   "file_extension": ".py",
   "mimetype": "text/x-python",
   "name": "python",
   "nbconvert_exporter": "python",
   "pygments_lexer": "ipython3",
   "version": "3.7.3"
  }
 },
 "nbformat": 4,
 "nbformat_minor": 2
}
