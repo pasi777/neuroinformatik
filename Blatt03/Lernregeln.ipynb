{
 "cells": [
  {
   "cell_type": "markdown",
   "metadata": {},
   "source": [
    "# Assignment 3 - Exercise 1.3 #"
   ]
  },
  {
   "cell_type": "code",
   "execution_count": 56,
   "metadata": {},
   "outputs": [
    {
     "name": "stdout",
     "output_type": "stream",
     "text": [
      "grad_w0: 0.36260270307341996\n",
      "grad_b0: 0.25141536222290073\n",
      "w1: -1.580164324917472\n",
      "b1: 2.597735420443359\n"
     ]
    }
   ],
   "source": [
    "from math import exp\n",
    "import numpy as np\n",
    "\n",
    "x = [-1,0,1,2]\n",
    "T = [0,1,0,0]\n",
    "w0 = -1\n",
    "b0 = 3\n",
    "def f(x): return(1 / (1 + exp(-x)))\n",
    "def fprime(x): return(exp(-x) / (1 + exp(-x))**2)\n",
    "\n",
    "\n",
    "### Teilaufgabe a) ###\n",
    "\n",
    "# Gradient ∂E(−1,3) / ∂w an der Startposition.\n",
    "def termGradW(i): return(-2 * x[i] * (T[i] - f(b0 + w0*x[i])) * fprime(b0 + w0*x[i]))\n",
    "grad_w0 = 0.5 * sum(map(lambda i : termGradW(i), [0,1,2,3]))\n",
    "#Gradient ∂E(−1,3) / ∂b an der Startposition.\n",
    "def termGradB(i): return(2*(T[i] - f(w0*x[i]+b0)) * (-fprime(w0*x[i]+b0)))\n",
    "grad_b0 = 0.5 * sum(map(lambda i : termGradB(i), [0,1,2,3]))\n",
    "\n",
    "print(\"grad_w0: \" + str(grad_w0))\n",
    "print(\"grad_b0: \" + str(grad_b0))\n",
    "\n",
    "### Teilaufgabe c) ###\n",
    "\n",
    "#Gewicht w(1) nach dem ersten Update.\n",
    "def termBatchW(i): return((T[i]-f(w0*x[i]+b0))*fprime(w0*x[i]+b0)*x[i])\n",
    "w1 = w0 + 2 * 0.8 * sum(map(lambda i : termBatchW(i), [0,1,2,3]))\n",
    "\n",
    "#Bias b(1) nach dem ersten Update.\n",
    "def termBatchB(i): return((T[i]-f(w0*x[i]+b0))*fprime(w0*x[i]+b0))\n",
    "b1 = b0 + 2 * 0.8 * sum(map(lambda i : termBatchB(i), [0,1,2,3]))\n",
    "\n",
    "print(\"w1: \" + str(w1))\n",
    "print(\"b1: \" + str(b1))\n"
   ]
  },
  {
   "cell_type": "code",
   "execution_count": null,
   "metadata": {},
   "outputs": [],
   "source": []
  }
 ],
 "metadata": {
  "kernelspec": {
   "display_name": "Python 3",
   "language": "python",
   "name": "python3"
  },
  "language_info": {
   "codemirror_mode": {
    "name": "ipython",
    "version": 3
   },
   "file_extension": ".py",
   "mimetype": "text/x-python",
   "name": "python",
   "nbconvert_exporter": "python",
   "pygments_lexer": "ipython3",
   "version": "3.7.3"
  }
 },
 "nbformat": 4,
 "nbformat_minor": 2
}
