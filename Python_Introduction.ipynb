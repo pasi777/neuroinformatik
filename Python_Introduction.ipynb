{
 "cells": [
  {
   "cell_type": "markdown",
   "metadata": {},
   "source": [
    "# An Introduction to Python\n",
    "*Institute of Neural Information Processing at the University of Ulm*\n",
    "\n",
    "This is a short introduction to Python which we are using in our lectures. Python is a free programming language and very easy to use.\n",
    "\n",
    "## Installation\n",
    "For scientific programming, we recommend Anaconda as Python distribution since it contains a package and environment manager and it comes pre-installed with many useful packages. For our lectures, you need to set up your environment as follows:\n",
    "\n",
    "- Install Anaconda: [https://www.anaconda.com/download/](https://www.anaconda.com/download/)\n",
    "- Install NodeJS: `conda install nodejs`\n",
    "- Install the [matplotlib Jupyter extension](https://github.com/matplotlib/jupyter-matplotlib) (required for interactive widgets)\n",
    "    - `conda install -c conda-forge ipympl`\n",
    "    - `jupyter labextension install @jupyter-widgets/jupyterlab-manager`\n",
    "    - `jupyter labextension install jupyter-matplotlib`\n",
    "- (Optional) Install the [variable explorer](https://github.com/lckr/jupyterlab-variableInspector): `jupyter labextension install @lckr/jupyterlab_variableinspector`\n",
    "\n",
    "After the installation, you can navigate to a folder and start the Jupyter environment via `jupyter lab`. Some general tips to work efficiently in the lab can be found in [this blog post](https://florianwilhelm.info/2018/11/working_efficiently_with_jupyter_lab/).\n",
    "\n",
    "## Keyboard Shortcuts\n",
    "There are three important keyboard shortcuts when using the Jupyter lab:\n",
    "- `SHIFT + ENTER`: execute a cell.\n",
    "- `SHIFT + TAB`: open the documentation for the current element.\n",
    "- `TAB`: autocompletion.\n",
    "\n",
    "## Package Management \n",
    "There are two possibilities to install new packages, see [https://conda.io/docs/user-guide/tasks/manage-pkgs.html](https://conda.io/docs/user-guide/tasks/manage-pkgs.html):\n",
    "- packages from Anaconda\n",
    "- non-conda packages\n",
    "\n",
    "### Packages from Anaconda\n",
    "- To search whether packages are available on Anaconda, use: `conda search package-name`\n",
    "- To install the package, use: `conda install package-name` or for a certain environment use: `conda install package-name -n env_py36`\n",
    "\n",
    "### Non-Conda Packages\n",
    "If you want to install non-conda packages, you can use pip. The idea is the same as with packages from Anaconda: `pip install package-name`.\n",
    "\n",
    "## Basic Python Syntax\n",
    "Now, let's start with some basic coding. In Python, variables are implicitly typed meaning we don't have to specify the types explicitly as it is the case with other (low-level) languages:"
   ]
  },
  {
   "cell_type": "code",
   "execution_count": 1,
   "metadata": {},
   "outputs": [
    {
     "name": "stdout",
     "output_type": "stream",
     "text": [
      "type of a is:  <class 'int'>\n",
      "type of b is:  <class 'str'>\n",
      "type of c is:  <class 'float'>\n"
     ]
    }
   ],
   "source": [
    "a = 2  # integer value\n",
    "print('type of a is: ', type(a))\n",
    "\n",
    "b = '5'  # string\n",
    "print('type of b is: ', type(b))\n",
    "\n",
    "c = 3.0  # float value\n",
    "print('type of c is: ', type(c))"
   ]
  },
  {
   "cell_type": "markdown",
   "metadata": {},
   "source": [
    "### Lists, Tuples and Dictionaries\n",
    "Next, let´s take a look at some basic data structures. First, we will focus on how to create and iterate through lists and tupels and then proceed further with the implementation of dictionaries. Lists can be used without pre-defining their length."
   ]
  },
  {
   "cell_type": "code",
   "execution_count": 2,
   "metadata": {},
   "outputs": [
    {
     "name": "stdout",
     "output_type": "stream",
     "text": [
      "Empty list:  []\n",
      "Filled list:  [1, 2, 3]\n",
      "Address second entry [1] in the first list [0]:  3\n",
      "List with added entry:  [1, 2, 3, 4]\n"
     ]
    }
   ],
   "source": [
    "# Create lists:\n",
    "l1 = []  # Empty list\n",
    "l2 = [1, 2, 3]  # list\n",
    "l3 = [[1, 3], [2, 6, 1], [1, 3]]  # lists in list\n",
    "\n",
    "print('Empty list: ', l1)\n",
    "print('Filled list: ', l2)\n",
    "print('Address second entry [1] in the first list [0]: ', l3[0][1])\n",
    "\n",
    "# Add new entry to list:\n",
    "l2.append(4)\n",
    "print('List with added entry: ', l2)"
   ]
  },
  {
   "cell_type": "code",
   "execution_count": 3,
   "metadata": {
    "collapsed": false
   },
   "outputs": [
    {
     "name": "stdout",
     "output_type": "stream",
     "text": [
      "Address first entry of tuple t:  1\n"
     ]
    }
   ],
   "source": [
    "# Create tuples:\n",
    "t = (1,2)\n",
    "print('Address first entry of tuple t: ', t[0])"
   ]
  },
  {
   "cell_type": "markdown",
   "metadata": {},
   "source": [
    "The difference between lists and tuples is that the latter are immutable, i.e. its content can't be changed after definition."
   ]
  },
  {
   "cell_type": "code",
   "execution_count": 40,
   "metadata": {},
   "outputs": [
    {
     "ename": "TypeError",
     "evalue": "'tuple' object does not support item assignment",
     "output_type": "error",
     "traceback": [
      "\u001b[1;31m---------------------------------------------------------------------------\u001b[0m",
      "\u001b[1;31mTypeError\u001b[0m                                 Traceback (most recent call last)",
      "\u001b[1;32m<ipython-input-40-7bba738bfb2b>\u001b[0m in \u001b[0;36m<module>\u001b[1;34m\u001b[0m\n\u001b[1;32m----> 1\u001b[1;33m \u001b[0mt\u001b[0m\u001b[1;33m[\u001b[0m\u001b[1;36m0\u001b[0m\u001b[1;33m]\u001b[0m\u001b[1;33m=\u001b[0m\u001b[1;36m2\u001b[0m\u001b[1;33m\u001b[0m\u001b[1;33m\u001b[0m\u001b[0m\n\u001b[0m",
      "\u001b[1;31mTypeError\u001b[0m: 'tuple' object does not support item assignment"
     ]
    }
   ],
   "source": [
    "t[0]=2"
   ]
  },
  {
   "cell_type": "markdown",
   "metadata": {},
   "source": [
    "List comprehensions are an easy way to fill lists:"
   ]
  },
  {
   "cell_type": "code",
   "execution_count": 5,
   "metadata": {},
   "outputs": [
    {
     "name": "stdout",
     "output_type": "stream",
     "text": [
      "List created using list comprehension:  [0, 1, 2, 3, 4]\n"
     ]
    }
   ],
   "source": [
    "lc = [i for i in range(5)]\n",
    "print('List created using list comprehension: ', lc)"
   ]
  },
  {
   "cell_type": "markdown",
   "metadata": {},
   "source": [
    "There are two things to note here:\n",
    "\n",
    "- The `range` specification **excludes the last value**. We iterated until the value of 5 but this value is not included within the list.\n",
    "- The iteration **starts at 0** (index-based).\n",
    "\n",
    "#### Iterating\n",
    "We can easily iterate through lists in the following way. Note, that <font color='red'>loops and conditions require a specific syntax</font>. It is necessary to either use tabspace or empty spaces consistently during your script. Another important step is to use a colon at the end of the condition/loop."
   ]
  },
  {
   "cell_type": "code",
   "execution_count": 6,
   "metadata": {},
   "outputs": [
    {
     "name": "stdout",
     "output_type": "stream",
     "text": [
      "_____________________________________\n",
      "Iterate through a list using method 1:\n",
      "0\n",
      "1\n",
      "2\n",
      "3\n",
      "4\n",
      "_____________________________________\n",
      "Iterate through a list using method 2:\n",
      "0\n",
      "1\n",
      "2\n",
      "3\n",
      "4\n"
     ]
    }
   ],
   "source": [
    "# First way of iterating through a list\n",
    "print('_____________________________________')\n",
    "print('Iterate through a list using method 1:')\n",
    "for entry in lc:\n",
    "    print(entry)\n",
    "    \n",
    "print('_____________________________________')\n",
    "\n",
    "# Second way of iterating through a list (useful if the index of the elements is required)\n",
    "print('Iterate through a list using method 2:')\n",
    "for i, entry in enumerate(lc):\n",
    "    print(lc[i])"
   ]
  },
  {
   "cell_type": "markdown",
   "metadata": {},
   "source": [
    "#### Operating on Lists:\n",
    "Python allows us to operate easily on lists. We can combine two lists or multiply some lists quite easy."
   ]
  },
  {
   "cell_type": "code",
   "execution_count": 7,
   "metadata": {},
   "outputs": [
    {
     "name": "stdout",
     "output_type": "stream",
     "text": [
      "First list: [1, 2, 3, 4], 2nd list: [0, 1, 2, 3, 4] and combined list: [1, 2, 3, 4, 0, 1, 2, 3, 4]\n",
      "Initial list: [0, 1, 2, 3, 4] and repeated list: [0, 1, 2, 3, 4, 0, 1, 2, 3, 4, 0, 1, 2, 3, 4]\n"
     ]
    }
   ],
   "source": [
    "# Combine two lists:\n",
    "combined_list = l2 + lc\n",
    "print('First list: %s, 2nd list: %s and combined list: %s' % (l2, lc, combined_list))\n",
    "\n",
    "# Repeat a list:\n",
    "mul_list = lc * 3\n",
    "print('Initial list: %s and repeated list: %s' % (lc, mul_list))\n"
   ]
  },
  {
   "cell_type": "markdown",
   "metadata": {},
   "source": [
    "#### Dictionaries\n",
    "We can also use some dictionaries within Python which are a handy way to store different types in an object-like structure. A dictionary stores a value based on a pre-defined key."
   ]
  },
  {
   "cell_type": "code",
   "execution_count": 8,
   "metadata": {},
   "outputs": [
    {
     "name": "stdout",
     "output_type": "stream",
     "text": [
      "First attribute in the dictionary:  154\n",
      "Second attribute in the dictionary:  Your Name\n",
      "Dictionary with the new added entry:  {'attr1': 154, 'attr2': 'Your Name', 'new_attr': 'iphone'}\n"
     ]
    }
   ],
   "source": [
    "# Create a new dictionary:\n",
    "my_dict = {\n",
    "    'attr1': 154,\n",
    "    'attr2': 'Your Name'\n",
    "}\n",
    "\n",
    "########\n",
    "## Retrieve an attribute\n",
    "# First method:\n",
    "a1 = my_dict['attr1']\n",
    "print('First attribute in the dictionary: ', a1)\n",
    "\n",
    "# Second method:\n",
    "a2 = my_dict.get('attr2')\n",
    "print('Second attribute in the dictionary: ', a2)\n",
    "\n",
    "########\n",
    "## Add new elements to existing dictionary:\n",
    "my_dict['new_attr'] = 'iphone'\n",
    "print('Dictionary with the new added entry: ', repr(my_dict))"
   ]
  },
  {
   "cell_type": "markdown",
   "metadata": {},
   "source": [
    "When iterating through a dictionary, it is possible to return only the keys or values. But one can also return both entries at the same time."
   ]
  },
  {
   "cell_type": "code",
   "execution_count": 9,
   "metadata": {},
   "outputs": [
    {
     "name": "stdout",
     "output_type": "stream",
     "text": [
      "______________________________________________\n",
      "Return the keys of a dictionary:\n",
      "154\n",
      "Your Name\n",
      "iphone\n",
      "______________________________________________\n",
      "Return the values of a dictionary:\n",
      "154\n",
      "Your Name\n",
      "iphone\n",
      "______________________________________________\n",
      "Return the values of a dictionary:\n",
      "attr1 154\n",
      "attr2 Your Name\n",
      "new_attr iphone\n"
     ]
    }
   ],
   "source": [
    "# Return the keys:\n",
    "print('______________________________________________')\n",
    "print('Return the keys of a dictionary:')\n",
    "for key in my_dict:\n",
    "    print(my_dict[key])\n",
    "\n",
    "# Return the values\n",
    "print('______________________________________________')\n",
    "print('Return the values of a dictionary:')\n",
    "for value in my_dict.values():\n",
    "    print(value)\n",
    "    \n",
    "# Return the keys and corresponding values\n",
    "print('______________________________________________')\n",
    "print('Return the values of a dictionary:')\n",
    "for key, value in my_dict.items():\n",
    "    print(key, value)"
   ]
  },
  {
   "cell_type": "markdown",
   "metadata": {},
   "source": [
    "## NumPy Package\n",
    "Now that we know how to work with lists, tuples and dictionaries, we can take a look at the NumPy package. This allows us to work with multi-dimensional arrays and matrices as well as some high-level mathematical functions. A useful article can be found here: [https://www.i-programmer.info/programming/python/5785-advanced-python-arrays-introducing-numpy.html](https://www.i-programmer.info/programming/python/5785-advanced-python-arrays-introducing-numpy.html). <br>\n",
    "\n",
    "Let´s start by creating a simple vector and a matrix. Therefore, we have to import the NumPy package first."
   ]
  },
  {
   "cell_type": "code",
   "execution_count": 10,
   "metadata": {},
   "outputs": [
    {
     "name": "stdout",
     "output_type": "stream",
     "text": [
      "NumPy vector:  [1 2 3 4]\n",
      "_________________________\n",
      "NumPy matrix: \n",
      "[[1 2]\n",
      " [3 4]]\n"
     ]
    }
   ],
   "source": [
    "# Import the NumPy Package and assign a name to it (np is a frequently used abbreviation)\n",
    "import numpy as np\n",
    "\n",
    "# Create a vector with numpy\n",
    "vec = np.array([1, 2, 3, 4])\n",
    "\n",
    "print('NumPy vector: ', vec)\n",
    "\n",
    "# Create a matrix with numpy\n",
    "print('_________________________')\n",
    "mat = np.array([[1, 2], [3, 4]])\n",
    "print('NumPy matrix: ')\n",
    "print(mat)"
   ]
  },
  {
   "cell_type": "markdown",
   "metadata": {},
   "source": [
    "### Initialization\n",
    "NumPy offers a way to initialize matrices filled with zero- or one-values."
   ]
  },
  {
   "cell_type": "code",
   "execution_count": 11,
   "metadata": {},
   "outputs": [
    {
     "name": "stdout",
     "output_type": "stream",
     "text": [
      "zero matrix:\n",
      "[[0. 0. 0.]\n",
      " [0. 0. 0.]\n",
      " [0. 0. 0.]\n",
      " [0. 0. 0.]\n",
      " [0. 0. 0.]]\n",
      "_____________________\n",
      "ones matrix:\n",
      "[[1. 1. 1. 1.]\n",
      " [1. 1. 1. 1.]]\n"
     ]
    }
   ],
   "source": [
    "# Create a matrix filled with zeros\n",
    "mat_zero = np.zeros((5, 3))\n",
    "print('zero matrix:')\n",
    "print(mat_zero)\n",
    "\n",
    "# Create a matrix filled with ones\n",
    "print('_____________________')\n",
    "mat_ones = np.ones((2, 4))\n",
    "print('ones matrix:')\n",
    "print(mat_ones)"
   ]
  },
  {
   "cell_type": "markdown",
   "metadata": {},
   "source": [
    "### Indexing\n",
    "When you want to index through the matrix, remember that the index starts at zero. If you want to select the elements from the back, you can use negative indices: `[-1]` selects the last element. The different dimensions of a matrix can be selected at once, i.e. `[row, column]`. The colon `:` can be used as a range selector (`[start:end]` or all via `[:]`)."
   ]
  },
  {
   "cell_type": "code",
   "execution_count": 12,
   "metadata": {},
   "outputs": [
    {
     "name": "stdout",
     "output_type": "stream",
     "text": [
      "Index through a vector: \n",
      "First element of the vector vec=[1 2 3 4] is 1 \n",
      "Last element of the vector vec=[1 2 3 4] is 4 \n",
      "_________________________________________________________________\n",
      "Index the following matrix:\n",
      "[[1 2 3]\n",
      " [4 5 6]\n",
      " [7 8 9]]\n",
      "Third row and second column entry via the 1st possibility is:  8\n",
      "Third row and second column entry via the 2nd possibility is:  8\n",
      "Return a certain range from a matrix:  [7 8]\n"
     ]
    }
   ],
   "source": [
    "# First element of a vector:\n",
    "print('Index through a vector: ')\n",
    "first_elem = vec[0]\n",
    "print('First element of the vector vec=%s is %s ' % (vec, first_elem))\n",
    "\n",
    "# Last element of a vector\n",
    "last_elem = vec[-1]\n",
    "print('Last element of the vector vec=%s is %s ' % (vec, last_elem))\n",
    "\n",
    "# Index a matrix:\n",
    "print('_________________________________________________________________')\n",
    "print('Index the following matrix:')\n",
    "mat_index = np.array([[1, 2, 3],\n",
    "                      [4, 5, 6],\n",
    "                      [7, 8, 9]])\n",
    "print(mat_index)\n",
    "# First possibility:\n",
    "mat21_1 = mat_index[2, 1]\n",
    "print('Third row and second column entry via the 1st possibility is: ', mat21_1)\n",
    "\n",
    "# Second possibility:\n",
    "mat21_2 = mat_index[2][1]\n",
    "print('Third row and second column entry via the 2nd possibility is: ', mat21_2)\n",
    "\n",
    "# Return a range from a matrix:\n",
    "mat_range = mat_index[2, :-1]\n",
    "print('Return a certain range from a matrix: ', mat_range)  # Note, last entry is excluding"
   ]
  },
  {
   "cell_type": "markdown",
   "metadata": {},
   "source": [
    "Boolean values can also be used as index."
   ]
  },
  {
   "cell_type": "code",
   "execution_count": 13,
   "metadata": {},
   "outputs": [
    {
     "name": "stdout",
     "output_type": "stream",
     "text": [
      "Initial matrix\n",
      "[[1 2]\n",
      " [3 4]]\n",
      "_______________________\n",
      "Boolean matrix with the condition that the element value is equal and/or above 2:\n",
      "[[False  True]\n",
      " [ True  True]]\n",
      "_______________________\n",
      "Return the True values as an array:\n",
      "[2 3 4]\n"
     ]
    }
   ],
   "source": [
    "### Boolean operation on matrices\n",
    "# Initial matrix\n",
    "print('Initial matrix')\n",
    "print(mat)\n",
    "\n",
    "# Create a boolean matrix based on a condition:\n",
    "print('_______________________')\n",
    "mat_bool = mat >= 2\n",
    "print('Boolean matrix with the condition that the element value is equal and/or above 2:')\n",
    "print(mat_bool)\n",
    "\n",
    "# Using it as indexing (returns a vector)\n",
    "print('_______________________')\n",
    "mat_bool_indexing = mat[mat_bool]\n",
    "print('Return the True values as an array:')\n",
    "print(mat_bool_indexing)"
   ]
  },
  {
   "cell_type": "markdown",
   "metadata": {},
   "source": [
    "### Extension\n",
    "It is possible to append a row to an existing matrix."
   ]
  },
  {
   "cell_type": "code",
   "execution_count": 14,
   "metadata": {},
   "outputs": [
    {
     "name": "stdout",
     "output_type": "stream",
     "text": [
      "The initial matrix:\n",
      "[[1. 1. 1. 1.]\n",
      " [1. 1. 1. 1.]]\n",
      "_____________________\n",
      "The vector: [1 2 3 4]\n",
      "_____________________\n",
      "The combined matrix:\n",
      "[[1. 1. 1. 1.]\n",
      " [1. 1. 1. 1.]\n",
      " [1. 2. 3. 4.]]\n"
     ]
    }
   ],
   "source": [
    "# Add a vector to an already existing matrix:\n",
    "comb_mat = np.insert(mat_ones, [2], vec, axis = 0)   # Append vec to mat_ones in the first dimension (adds a new row) before the index 2, i.e. at the end\n",
    "print('The initial matrix:')\n",
    "print(mat_ones)\n",
    "print('_____________________')\n",
    "print('The vector:', vec)\n",
    "print('_____________________')\n",
    "print('The combined matrix:')\n",
    "print(comb_mat)"
   ]
  },
  {
   "cell_type": "markdown",
   "metadata": {},
   "source": [
    "### Reshaping\n",
    "It is also possible to flatten a numpy array. A few options are available as to how you want to flatten your array. Per default, NumPy flattens the array in row-major order (option C), see [https://docs.scipy.org/doc/numpy-1.15.0/reference/generated/numpy.ndarray.flatten.html](https://docs.scipy.org/doc/numpy-1.15.0/reference/generated/numpy.ndarray.flatten.html)"
   ]
  },
  {
   "cell_type": "code",
   "execution_count": 15,
   "metadata": {},
   "outputs": [
    {
     "name": "stdout",
     "output_type": "stream",
     "text": [
      "Initial matrix:\n",
      "[[1 2]\n",
      " [3 4]]\n",
      "___________________________________________\n",
      "Row-major flattened 2D array:  [1 2 3 4]\n",
      "Column-major flattened 2D array: [1 3 2 4]\n"
     ]
    }
   ],
   "source": [
    "print('Initial matrix:')\n",
    "print(mat)\n",
    "print('___________________________________________')\n",
    "\n",
    "## Flatten an array:\n",
    "# row-major flattened\n",
    "flat_row_major = mat.flatten()  # Per Default is row-major (or set it manually to 'C')\n",
    "print('Row-major flattened 2D array: ', flat_row_major)\n",
    "\n",
    "# column-major flattened\n",
    "flat_col_major = mat.flatten(order='F')\n",
    "print('Column-major flattened 2D array:', flat_col_major)"
   ]
  },
  {
   "cell_type": "code",
   "execution_count": 16,
   "metadata": {},
   "outputs": [
    {
     "data": {
      "text/plain": [
       "array([[1],\n",
       "       [2],\n",
       "       [3],\n",
       "       [4]])"
      ]
     },
     "execution_count": 16,
     "metadata": {},
     "output_type": "execute_result"
    }
   ],
   "source": [
    "# More general operation, e.g. to flatten to a column vector\n",
    "mat.reshape(-1, 1)"
   ]
  },
  {
   "cell_type": "markdown",
   "metadata": {},
   "source": [
    "### Matrix Manipulation\n",
    "NumPy offers some high-level matrix manipulation techniques. It is possible to perform element-wise operations or matrix multiplications."
   ]
  },
  {
   "cell_type": "code",
   "execution_count": 17,
   "metadata": {},
   "outputs": [
    {
     "name": "stdout",
     "output_type": "stream",
     "text": [
      "Initial matrix: \n",
      "[[1 2]\n",
      " [3 4]]\n",
      "_______________________\n",
      "Element-wise matrix multiplication:\n",
      "[[ 1  4]\n",
      " [ 9 16]]\n",
      "_______________________\n",
      "Matrix addition\n",
      "[[2 4]\n",
      " [6 8]]\n",
      "_______________________\n",
      "Matrix multiplication:\n",
      "[[ 7 10]\n",
      " [15 22]]\n"
     ]
    }
   ],
   "source": [
    "###########################\n",
    "### Element-wise matrix operations\n",
    "print('Initial matrix: ')\n",
    "print(mat)\n",
    "# Element-wise matrix multiplications\n",
    "print('_______________________')\n",
    "elem_mat_mul = mat * mat\n",
    "print('Element-wise matrix multiplication:')\n",
    "print(elem_mat_mul)\n",
    "\n",
    "print('_______________________')\n",
    "mat_add = mat + mat\n",
    "print('Matrix addition')\n",
    "print(mat_add)\n",
    "\n",
    "###########################\n",
    "### Matrix multiplication\n",
    "print('_______________________')\n",
    "mat_mul = np.matmul(mat, mat)\n",
    "print('Matrix multiplication:')\n",
    "print(mat_mul)"
   ]
  },
  {
   "cell_type": "markdown",
   "metadata": {},
   "source": [
    "To transpose a vector it is necessary to keep in mind, that 1D-vectors can't get transposed. Therefore one has to change it to a 2D matrix first."
   ]
  },
  {
   "cell_type": "code",
   "execution_count": 18,
   "metadata": {},
   "outputs": [
    {
     "name": "stdout",
     "output_type": "stream",
     "text": [
      "Transposed vector:\n",
      "[1 2 3 4]\n",
      "Vector as matrix (row vector):\n",
      "[[1 2 3 4]]\n",
      "Transposed vector:\n",
      "[[1]\n",
      " [2]\n",
      " [3]\n",
      " [4]]\n"
     ]
    }
   ],
   "source": [
    "### Transpose a vector\n",
    "vec_t = vec.transpose()  # Does not work\n",
    "print('Transposed vector:')\n",
    "print(vec_t)\n",
    "\n",
    "# The vector must first get transformed to a 2D array\n",
    "vec_2d = vec[None, :] # None defines the single dimension (shape 1x4)\n",
    "print('Vector as matrix (row vector):')\n",
    "print(vec_2d)\n",
    "\n",
    "# Now, we can transpose it\n",
    "vec_2d_t = vec_2d.transpose()\n",
    "print('Transposed vector:')\n",
    "print(vec_2d_t)"
   ]
  },
  {
   "cell_type": "markdown",
   "metadata": {},
   "source": [
    "### Broadcasting\n",
    "Mathematically, we cannot combine two matrices with different shapes. In NumPy, however, this may still be possible due to [broadcasting](https://docs.scipy.org/doc/numpy/user/basics.broadcasting.html). This defines how NumPy treats matrices with different shapes and when it is possible to apply operations on them. In general, the smaller matrix is repeated across the unmatched dimensions and then the operation is applied as usual.\n",
    "\n",
    "Let's say we want to add a vector to our matrix defined previously:"
   ]
  },
  {
   "cell_type": "code",
   "execution_count": 19,
   "metadata": {},
   "outputs": [
    {
     "data": {
      "text/plain": [
       "array([[1.1, 1.2]])"
      ]
     },
     "execution_count": 19,
     "metadata": {},
     "output_type": "execute_result"
    }
   ],
   "source": [
    "vec_add = np.array([[1.1, 1.2]])\n",
    "vec_add"
   ]
  },
  {
   "cell_type": "markdown",
   "metadata": {},
   "source": [
    "When we want to add this row vector to the matrix, the vector is repeated across the rows of the matrix so that the shapes fit. Then, the matrix addition is applied."
   ]
  },
  {
   "cell_type": "code",
   "execution_count": 20,
   "metadata": {},
   "outputs": [
    {
     "data": {
      "text/plain": [
       "array([[2.1, 3.2],\n",
       "       [4.1, 5.2]])"
      ]
     },
     "execution_count": 20,
     "metadata": {},
     "output_type": "execute_result"
    }
   ],
   "source": [
    "mat + vec_add"
   ]
  },
  {
   "cell_type": "markdown",
   "metadata": {},
   "source": [
    "When we add a column vector, its content is repeated across the columns of the matrix."
   ]
  },
  {
   "cell_type": "code",
   "execution_count": 21,
   "metadata": {},
   "outputs": [
    {
     "data": {
      "text/plain": [
       "array([[2.1, 3.1],\n",
       "       [4.2, 5.2]])"
      ]
     },
     "execution_count": 21,
     "metadata": {},
     "output_type": "execute_result"
    }
   ],
   "source": [
    "mat + vec_add.T"
   ]
  },
  {
   "cell_type": "markdown",
   "metadata": {},
   "source": [
    "### `axis` argument\n",
    "There are many functions available which operate on matrices. Very often it is not uniquely defined how this operation should be applied on a matrix and for this there is a `axis` argument available. Let's say we want to calculate the mean of the matrix"
   ]
  },
  {
   "cell_type": "code",
   "execution_count": 22,
   "metadata": {},
   "outputs": [],
   "source": [
    "mat2 = np.array([[1, 2, 3],\n",
    "                 [4, 5, 6]])"
   ]
  },
  {
   "cell_type": "markdown",
   "metadata": {},
   "source": [
    "Then, we can calculate the mean of all values (default)"
   ]
  },
  {
   "cell_type": "code",
   "execution_count": 23,
   "metadata": {},
   "outputs": [
    {
     "data": {
      "text/plain": [
       "3.5"
      ]
     },
     "execution_count": 23,
     "metadata": {},
     "output_type": "execute_result"
    }
   ],
   "source": [
    "np.mean(mat2)"
   ]
  },
  {
   "cell_type": "markdown",
   "metadata": {},
   "source": [
    "or we calculate the mean across the rows (the row dimension gets reduced to 1)"
   ]
  },
  {
   "cell_type": "code",
   "execution_count": 24,
   "metadata": {},
   "outputs": [
    {
     "data": {
      "text/plain": [
       "array([2.5, 3.5, 4.5])"
      ]
     },
     "execution_count": 24,
     "metadata": {},
     "output_type": "execute_result"
    }
   ],
   "source": [
    "np.mean(mat2, axis=0)"
   ]
  },
  {
   "cell_type": "markdown",
   "metadata": {},
   "source": [
    "Similarly when we want to calculate the mean across the columns"
   ]
  },
  {
   "cell_type": "code",
   "execution_count": 25,
   "metadata": {},
   "outputs": [
    {
     "data": {
      "text/plain": [
       "array([2., 5.])"
      ]
     },
     "execution_count": 25,
     "metadata": {},
     "output_type": "execute_result"
    }
   ],
   "source": [
    "np.mean(mat2, axis=1)"
   ]
  },
  {
   "cell_type": "markdown",
   "metadata": {},
   "source": [
    "## Visualize Data\n",
    "There are a variety of packages that can be used to visualize your data. We will introduce just one of them. It´s called **matplotlib**. Some tutorials, examples and the documentation itself can be found at: [https://matplotlib.org/](https://matplotlib.org/). We will show you some basics on how to work with this package. <br>\n",
    "\n",
    "Let´s start by importing the package first and create some sample data."
   ]
  },
  {
   "cell_type": "code",
   "execution_count": 26,
   "metadata": {},
   "outputs": [
    {
     "name": "stdout",
     "output_type": "stream",
     "text": [
      "Sample data:\n",
      "[[10 11 12 12 11 10  9  9]\n",
      " [ 1  2  0  1  2  0  1  2]]\n"
     ]
    }
   ],
   "source": [
    "# Import the matplotlib package and assign a name to it:\n",
    "import matplotlib.pyplot as plt\n",
    "\n",
    "# Create some sample data\n",
    "data = np.array([[10,11,12,12,11,10,9,9], [1,2,0,1,2,0,1,2]])\n",
    "print('Sample data:')\n",
    "print(data)"
   ]
  },
  {
   "cell_type": "code",
   "execution_count": 27,
   "metadata": {},
   "outputs": [
    {
     "data": {
      "image/png": "[encoded data removed]",
      "text/plain": [
       "<Figure size 432x288 with 1 Axes>"
      ]
     },
     "metadata": {
      "needs_background": "light"
     },
     "output_type": "display_data"
    }
   ],
   "source": [
    "### Basic line plot\n",
    "# We are plotting the first and second row as separate curves\n",
    "plt.figure(1)  # Create a new figure object\n",
    "plt.plot(data[0, :], 'r', data[1, :], 'b')  # Plot the data\n",
    "# Never forget to label your data and describe your axes\n",
    "plt.legend(('Row 1', 'Row 2'))\n",
    "plt.xlabel('$x$-axis')\n",
    "plt.ylabel('$y$-axis')\n",
    "plt.title('Basic line plot');"
   ]
  },
  {
   "cell_type": "code",
   "execution_count": 28,
   "metadata": {},
   "outputs": [
    {
     "data": {
      "image/png": "[encoded data removed]",
      "text/plain": [
       "<Figure size 432x288 with 2 Axes>"
      ]
     },
     "metadata": {
      "needs_background": "light"
     },
     "output_type": "display_data"
    }
   ],
   "source": [
    "## Basic line plot\n",
    "# We can also assign a name to our axes object and work with that\n",
    "fig, (ax1, ax2) = plt.subplots(2, 1)\n",
    "\n",
    "ax1.plot(data[0, :], 'ro')  # 'r' is coloring the curve in red. 'o' creates a dot plot\n",
    "ax1.set_title('Row 1 data')\n",
    "ax1.set_xlabel('$x$-axis')\n",
    "ax1.set_ylabel('$y$-axis')\n",
    "\n",
    "# Add another subplot for the second row\n",
    "ax2.plot(data[1, :], 'C0', linestyle='dashed')  # C<nr> are shorthand notation for the default colors\n",
    "ax2.set_title('Row 2 data')\n",
    "ax2.set_xlabel('$x$-axis')\n",
    "ax2.set_ylabel('$y$-axis')\n",
    "\n",
    "fig.tight_layout(pad=0.4, w_pad=0.5, h_pad=1.0)  # When you have overlapping plots"
   ]
  },
  {
   "cell_type": "code",
   "execution_count": 29,
   "metadata": {},
   "outputs": [
    {
     "data": {
      "image/png": "[encoded data removed]",
      "text/plain": [
       "<Figure size 432x288 with 1 Axes>"
      ]
     },
     "metadata": {
      "needs_background": "light"
     },
     "output_type": "display_data"
    }
   ],
   "source": [
    "## Barchart \n",
    "# We are creating a barchart for both rows separately\n",
    "width = 0.35  # Create a width for the bars\n",
    "fig2 = plt.figure(3)\n",
    "bx = fig2.add_subplot(1, 1, 1)\n",
    "bx.bar(np.arange(np.size(data, axis=1)) - width / 2, data[0, :], width=width)\n",
    "bx.bar(np.arange(np.size(data, axis=1)) + width / 2, data[1, :], width=width)\n",
    "bx.legend(('Row 1', 'Row 2'))\n",
    "bx.set_title(('Bar chart plot'))\n",
    "bx.set_xlabel('$x$-axis')\n",
    "bx.set_ylabel('$y$-axis');"
   ]
  },
  {
   "cell_type": "code",
   "execution_count": 30,
   "metadata": {},
   "outputs": [
    {
     "data": {
      "image/png": "[encoded data removed]",
      "text/plain": [
       "<Figure size 432x288 with 1 Axes>"
      ]
     },
     "metadata": {
      "needs_background": "light"
     },
     "output_type": "display_data"
    }
   ],
   "source": [
    "## Histogram\n",
    "fig3 = plt.figure(4)\n",
    "ax4 = fig3.add_subplot(1,1,1)\n",
    "ax4.hist(data[0,:], bins = 10)\n",
    "ax4.set_title('Histogram based on Row 1')\n",
    "ax4.set_xlabel('$x$-axis')\n",
    "ax4.set_ylabel('$y$-axis');"
   ]
  },
  {
   "cell_type": "code",
   "execution_count": 31,
   "metadata": {},
   "outputs": [
    {
     "data": {
      "image/png": "[encoded data removed]",
      "text/plain": [
       "<Figure size 432x288 with 1 Axes>"
      ]
     },
     "metadata": {
      "needs_background": "light"
     },
     "output_type": "display_data"
    }
   ],
   "source": [
    "## Scatter plot\n",
    "# For the scatter plot, we need information about x and y\n",
    "fig4 = plt.figure(5)\n",
    "ax5 = fig4.add_subplot(1,1,1)\n",
    "ax5.scatter(data[0,:4], data[1,:4])\n",
    "ax5.scatter(data[0,4:], data[1,4:])\n",
    "ax5.legend(('1st half', '2nd half'))\n",
    "ax5.set_title('Scatter plot')\n",
    "ax5.set_xlabel('$x$-axis')\n",
    "ax5.set_ylabel('$y$-axis');"
   ]
  },
  {
   "cell_type": "markdown",
   "metadata": {},
   "source": [
    "## Interactivity\n",
    "One of the key advantage of Jupyter notebooks is the easy way to include interactive widgets."
   ]
  },
  {
   "cell_type": "code",
   "execution_count": 39,
   "metadata": {},
   "outputs": [
    {
     "data": {
      "application/vnd.jupyter.widget-view+json": {
       "model_id": "141dc3d6bb6a405cb6fbeb0000867154",
       "version_major": 2,
       "version_minor": 0
      },
      "text/plain": [
       "FigureCanvasNbAgg()"
      ]
     },
     "metadata": {},
     "output_type": "display_data"
    },
    {
     "data": {
      "application/vnd.jupyter.widget-view+json": {
       "model_id": "8235046f299442bc9b3e4bb964d106cf",
       "version_major": 2,
       "version_minor": 0
      },
      "text/plain": [
       "interactive(children=(FloatSlider(value=0.0, description='$\\\\omega$:', max=2.0, min=-2.0), Output()), _dom_cla…"
      ]
     },
     "metadata": {},
     "output_type": "display_data"
    }
   ],
   "source": [
    "%matplotlib widget\n",
    "from ipywidgets import interact\n",
    "import ipywidgets as widgets\n",
    "\n",
    "fig, ax = plt.subplots(1, 1)\n",
    "\n",
    "def plot_sin(frequency):\n",
    "    ax.clear()\n",
    "    \n",
    "    x = np.linspace(-3, 3)\n",
    "    ax.plot(x, np.sin(frequency * x))\n",
    "    ax.set_xlabel('$x$')\n",
    "    ax.set_ylabel(r'$\\sin(\\omega \\cdot x)$')\n",
    "    ax.set_title(r'$\\omega = %.2f$' % frequency)\n",
    "    ax.set_ylim([-1, 1])\n",
    "\n",
    "frequency_slider = widgets.FloatSlider(min=-2, max=2, description='$\\omega$:')\n",
    "interact(plot_sin, frequency=frequency_slider);"
   ]
  },
  {
   "cell_type": "markdown",
   "metadata": {},
   "source": [
    "## Machine Learning with Python\n",
    "Python offers some useful packages that contain machine learning algorithms. One of them is the **sklearn** package. It includes several algorithms like the kNN, Decision Tree, Random Forest, LDA, QDA, SGD, ... <br>\n",
    "Documentation and examples can be found on their homepage: [http://scikit-learn.org/stable/](http://scikit-learn.org/stable/). There are also several blogs about the use of the tools around the net, i.e. on Machinelearningmastery for kNN: [https://machinelearningmastery.com/tutorial-to-implement-k-nearest-neighbors-in-python-from-scratch/](https://machinelearningmastery.com/tutorial-to-implement-k-nearest-neighbors-in-python-from-scratch/). <br>\n",
    "Packages can be imported using the following command (i.e. for kNN or Decision Tree):\n",
    "\n",
    "```python\n",
    "from sklearn.neighbors import KNeighborsClassifier\n",
    "from sklearn.tree import DecisionTreeClassifier\n",
    "```\n",
    "\n",
    "We do not go further into detail here as there will be opportunities in due course."
   ]
  },
  {
   "cell_type": "markdown",
   "metadata": {},
   "source": [
    "## Other useful packages\n",
    "### Pandas\n",
    "There is quite a broad variety of packages that can be used with Python. One of them is the **pandas** package. It can be used for data manipulation and analysis. The documentation as well as some examples can be found here: [http://pandas.pydata.org/pandas-docs/stable/](http://pandas.pydata.org/pandas-docs/stable/). They also have a nice introduction tutorial that can be found here: [https://pandas.pydata.org/pandas-docs/stable/10min.html](https://pandas.pydata.org/pandas-docs/stable/10min.html).\n",
    "\n",
    "### Seaborn\n",
    "For the visualizations, we used the matplotlib library. But there are a lot more libraries that can be used. One of them is **seaborn**. It is a powerful visualization tool for statistics and based on the matplotlib library. Some useful tutorials can be found on their page: [https://seaborn.pydata.org/tutorial.html](https://seaborn.pydata.org/tutorial.html)."
   ]
  }
 ],
 "metadata": {
  "kernelspec": {
   "display_name": "Python 3",
   "language": "python",
   "name": "python3"
  },
  "language_info": {
   "codemirror_mode": {
    "name": "ipython",
    "version": 3
   },
   "file_extension": ".py",
   "mimetype": "text/x-python",
   "name": "python",
   "nbconvert_exporter": "python",
   "pygments_lexer": "ipython3",
   "version": "3.7.3"
  }
 },
 "nbformat": 4,
 "nbformat_minor": 2
}
