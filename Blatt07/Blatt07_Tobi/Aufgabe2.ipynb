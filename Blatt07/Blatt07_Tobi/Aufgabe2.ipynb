{
 "cells": [
  {
   "cell_type": "code",
   "execution_count": 1,
   "metadata": {},
   "outputs": [],
   "source": [
    "import numpy as np\n",
    "import tensorflow as tf\n",
    "import tensorflow.keras.backend as K\n",
    "from tensorflow.keras.layers import Dense\n",
    "from tensorflow.keras import optimizers, metrics"
   ]
  },
  {
   "cell_type": "code",
   "execution_count": 2,
   "metadata": {},
   "outputs": [],
   "source": [
    "# Aufgabe 2a: Schwellwertneuronen sind nicht geeignet, da für das Gradientenverfahren differenzierbare Transferfunktionen nötig sind\n",
    "\n",
    "# Initialisierung der Input-Daten\n",
    "n = 3\n",
    "X = [[1],[-1]]\n",
    "for i in range(1,n):\n",
    "    X = [x + [1] for x in X] + [x + [-1] for x in X]\n",
    "data = np.array([[x,y] for x in X for y in X])\n",
    "\n",
    "# Berechnung der Lehrer Daten\n",
    "T = np.zeros(data.shape[0], dtype = int)\n",
    "for i in range(data.shape[0]):\n",
    "    sum = 0\n",
    "    for j in range(n):\n",
    "        if data[i][0][j] == 1 and data[i][1][j] == 1:\n",
    "            sum = sum + 1\n",
    "    T[i] = sum % 2\n",
    "    \n",
    "# hab's nicht hinbekommen mit data.shape = (_,2,n) also reshape zu (_,2*n)\n",
    "data = np.reshape(data,(data.shape[0],2*n))"
   ]
  },
  {
   "cell_type": "code",
   "execution_count": 3,
   "metadata": {},
   "outputs": [],
   "source": [
    "def train_network(n_hidden):\n",
    "    '''\n",
    "    Trains a neural network and returns the lowest error.\n",
    "    :param n_hidden: Number of hidden neurons to use per\n",
    "    layer (as vector to indicate when multiple hidden\n",
    "    layers should be used). For example, [2] uses one\n",
    "    hidden layer with two neurons and [2, 2] uses two\n",
    "    hidden layers each with two neurons.\n",
    "    :return: The lowest error (MSE) occurred over all\n",
    "    training epochs.\n",
    "    '''\n",
    "    # Start fresh and at least try to get reproducible results\n",
    "\n",
    "    tf.reset_default_graph()\n",
    "    K.clear_session()\n",
    "    tf.set_random_seed(42)\n",
    "    np.random.seed(42)\n",
    "    \n",
    "    random_weights = tf.keras.initializers.RandomUniform(minval=-0.05, maxval=0.05)\n",
    "    model = tf.keras.models.Sequential()\n",
    "    \n",
    "    # add first hidden layer, which needs input shape as argument\n",
    "    model.add(Dense(n_hidden[0], input_shape = (2*n,), activation='tanh', kernel_initializer=random_weights, bias_initializer=random_weights))\n",
    "    for k in n_hidden[1:]:\n",
    "        model.add(Dense(k, activation='tanh',kernel_initializer=random_weights, bias_initializer=random_weights))\n",
    "   \n",
    "    # add output Layer\n",
    "    model.add(Dense(1,activation = 'tanh'))\n",
    "    \n",
    "    sgd = optimizers.SGD(lr=0.2, decay=0.0001, momentum=0.9, nesterov=True)\n",
    "    \n",
    "    model.compile(optimizer=sgd , loss='mse')\n",
    "    his = model.fit(data, T, epochs=300)\n",
    "    \n",
    "    return np.min(his.history['loss'])"
   ]
  },
  {
   "cell_type": "code",
   "execution_count": 4,
   "metadata": {},
   "outputs": [],
   "source": [
    "from IPython.display import clear_output\n",
    "\n",
    "# simulate the learning processes and save MSE\n",
    "net_flat = np.zeros(2**n + 4 + 1, dtype = float)\n",
    "for i in range(1,net_flat.shape[0]):\n",
    "    clear_output()\n",
    "    print('current number of Neurons: ' + str(i))\n",
    "    net_flat[i] = train_network([i])\n",
    "\n",
    "net_deep = np.zeros(2*n + 4 + 1, dtype = float)\n",
    "for i in range(1,net_deep.shape[0]):\n",
    "    clear_output()\n",
    "    print('current number of neurons: (' + str(i) + ',' + str(i) + ')')\n",
    "    net_deep[i] = train_network([i,i])\n",
    "\n",
    "clear_output()"
   ]
  },
  {
   "cell_type": "code",
   "execution_count": 8,
   "metadata": {},
   "outputs": [
    {
     "data": {
      "image/png": "[encoded data removed]",
      "text/plain": [
       "<Figure size 432x288 with 1 Axes>"
      ]
     },
     "metadata": {
      "needs_background": "light"
     },
     "output_type": "display_data"
    }
   ],
   "source": [
    "# Visualisierung der Daten\n",
    "import matplotlib.pyplot as plt\n",
    "\n",
    "fig = plt.figure()\n",
    "ax = fig.add_subplot(111)\n",
    "ax.grid(True)\n",
    "ax.plot(net_flat[1:], '.-b', label = 'Flat hierarchy')\n",
    "ax.plot(net_deep[1:], '.-r', label = 'Deep hierarchy')\n",
    "ax.axvline(x = 2*n + 1 , color = 'g' , label = 'h(net_deep)')\n",
    "\n",
    "ax.set_ylabel('MSE')\n",
    "ax.set_xlabel('Number of neurons')\n",
    "ax.set_title('Flat vs Deep')\n",
    "ax.legend();"
   ]
  },
  {
   "cell_type": "code",
   "execution_count": null,
   "metadata": {},
   "outputs": [],
   "source": []
  }
 ],
 "metadata": {
  "kernelspec": {
   "display_name": "Python 3",
   "language": "python",
   "name": "python3"
  },
  "language_info": {
   "codemirror_mode": {
    "name": "ipython",
    "version": 3
   },
   "file_extension": ".py",
   "mimetype": "text/x-python",
   "name": "python",
   "nbconvert_exporter": "python",
   "pygments_lexer": "ipython3",
   "version": "3.7.3"
  }
 },
 "nbformat": 4,
 "nbformat_minor": 2
}
