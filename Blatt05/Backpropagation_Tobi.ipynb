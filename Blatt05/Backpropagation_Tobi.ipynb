{
 "cells": [
  {
   "cell_type": "markdown",
   "metadata": {},
   "source": [
    "# Backpropagation\n",
    "Hier wollen wir nun Backpropagation selbst implementieren... "
   ]
  },
  {
   "cell_type": "code",
   "execution_count": 1,
   "metadata": {},
   "outputs": [],
   "source": [
    "%matplotlib widget\n",
    "from mpl_toolkits.mplot3d import axes3d\n",
    "import matplotlib.pyplot as plt\n",
    "import numpy as np\n",
    "np.random.seed(42)"
   ]
  },
  {
   "cell_type": "markdown",
   "metadata": {},
   "source": [
    "### Funktionen"
   ]
  },
  {
   "cell_type": "code",
   "execution_count": 2,
   "metadata": {},
   "outputs": [],
   "source": [
    "def forward(inpX, w1, w2, b1, b2):\n",
    "    '''\n",
    "    Perform a forward step of the network. For the transfer function in the hidden layer, use tanh.\n",
    "    \n",
    "    Parameters\n",
    "    ----------\n",
    "    inpX : data matrix\n",
    "        input matrix, shaped as: samples x dimensions\n",
    "    w1 : matrix\n",
    "        weight matrix between input and hidden neurons\n",
    "    w2 : matrix\n",
    "        weight matrix between hidden and output neurons\n",
    "    b1 : vector\n",
    "        bias vector for the hidden neurons\n",
    "    b2 : vector\n",
    "        bias vector for the output neurons\n",
    "    '''\n",
    "    u1 = np.matmul(inpX,w1) + b1                # u1.shape = (k,100) , b1.shape = (k,100)\n",
    "    y1 = np.tanh(u1)                            # y1.shape = (k,100)\n",
    "    y2 = np.matmul(y1,w2) + b2                  # y2.shape = (k,1)\n",
    "    return u1,y1,y2          \n",
    "\n",
    "def initialize_weights(inpDim, hiddenNeurons, outDim):\n",
    "    '''\n",
    "    Initialize the weight matrix based on input Dimension, amount of hidden neurons and output dimension.\n",
    "    The range for the initial weights is given by [-.5; .5].\n",
    "    \n",
    "    Parameters\n",
    "    ----------\n",
    "    inpDim : int\n",
    "        Number of input neurons\n",
    "    hiddenNeurons : int\n",
    "        Number of hidden neurons\n",
    "    outDim : int\n",
    "        Number of output neurons\n",
    "    weights : list\n",
    "        List containing the weights and biases in the following order: [w1, w2, b1, b2]\n",
    "    '''\n",
    "    \n",
    "    w1 = np.random.random((inpDim,hiddenNeurons)) - 0.5\n",
    "    w2 = np.random.random((hiddenNeurons,outDim)) - 0.5\n",
    "    b1 = np.random.random((1,hiddenNeurons)) - 0.5\n",
    "    b2 = np.random.random((1,outDim)) - 0.5\n",
    "    return w1,w2,b1,b2\n",
    "\n",
    "def prop_error(T, y2, w2, transDiff_u1):\n",
    "    '''\n",
    "    Calculation of the error of the network\n",
    "    \n",
    "    Parameters\n",
    "    ----------\n",
    "    T : float\n",
    "        teaching signal of the current sample\n",
    "    y2 : float\n",
    "        output of the last neuron\n",
    "    w2 : data matrix\n",
    "        weight matrix between hidden and output layer\n",
    "    transDiff_u1 : vector\n",
    "        differential of the transfer function used on u1\n",
    "    '''\n",
    "    delta2 = T - y2\n",
    "    delta1 = np.multiply(np.transpose(w2),transDiff_u1)*delta2\n",
    "    return delta1, delta2     # delta1.shape = (1,100) , delta2.shape = (1,1)\n",
    "\n",
    "def training(hiddenNeurons, lernRate, inpX, outT, epoch):\n",
    "    '''\n",
    "    Train the neural network. \n",
    "    \n",
    "    Parameters\n",
    "    ----------\n",
    "    hiddenNeurons : int\n",
    "        Number of hidden Neurons\n",
    "    lernRate : float\n",
    "        Lernrate \\eta\n",
    "    inpX : data matrix\n",
    "        input data and shaped as: samples x dimensions \n",
    "    outT : vector\n",
    "        teaching signal: one dimensional vector\n",
    "    epoch : int\n",
    "        number of training epochs\n",
    "    '''\n",
    "    \n",
    "    w1,w2,b1,b2 = initialize_weights(2,hiddenNeurons,1)\n",
    "    n = np.size(inpX,0)\n",
    "    error = np.empty(epoch)\n",
    "    results_this_epoch = np.empty(n)\n",
    "    for i in range(epoch):\n",
    "        for j in np.random.permutation(n):\n",
    "            u1,y1,y2 = forward(inpX[j],w1,w2,b1,b2)\n",
    "            transDiff_u1 = 1-np.square(np.tanh(u1))    # tanh'(x) = 1 - tanh^2(x)\n",
    "            delta1,delta2 = prop_error(outT[j],y2,w2,transDiff_u1)\n",
    "            w2 = w2 + lernRate*delta2*np.transpose(y1)\n",
    "            w1[0] = w1[0] + lernRate*inpX[j][0]*delta1\n",
    "            w1[1] = w1[1] + lernRate*inpX[j][1]*delta1            \n",
    "            b2 = b2 + lernRate*delta2\n",
    "            b1 = b1 + lernRate*delta1\n",
    "        # berechne Fehler nach jeder Epoche\n",
    "        _,_,y2 = forward(inpX,w1,w2,b1,b2)\n",
    "        error[i] = np.sum(np.square(outT - np.matrix.flatten(y2)))  # E\n",
    "    return w1,w2,b1,b2,error"
   ]
  },
  {
   "cell_type": "markdown",
   "metadata": {},
   "source": [
    "### Initialiserung der Parameter.\n",
    "- X und Y entsprechen dem Datensatz\n",
    "- Z ist das Lehrersignal"
   ]
  },
  {
   "cell_type": "code",
   "execution_count": 3,
   "metadata": {},
   "outputs": [],
   "source": [
    "############\n",
    "## Generate some sample data\n",
    "def f(x,y):\n",
    "    return np.sin(np.sqrt(x**2 + y**2)) + np.cos(.9*(x-y))\n",
    "\n",
    "X = np.linspace(-6, 6, 30)\n",
    "Y = np.linspace(-6, 6, 30)\n",
    "x, y = np.meshgrid(X, Y)\n",
    "z = f(x, y)\n",
    "\n",
    "############\n",
    "## Initialize network parameter\n",
    "hiddenNeuronen = 100\n",
    "lernRate       = 0.01\n",
    "epochen        = 1000\n",
    "\n",
    "############\n",
    "## prepare sample data, train network and prepare result data for plotts\n",
    "inpX = np.column_stack((np.matrix.flatten(x),np.matrix.flatten(y)))\n",
    "outT = np.matrix.flatten(z)\n",
    "w1,w2,b1,b2,error = training(hiddenNeuronen,lernRate,inpX,outT,epochen)\n",
    "_,_,y2 = forward(inpX,w1,w2,b1,b2)\n",
    "approx = np.reshape(y2,(30,30)) # zum plotten der approximierten Funktion\n",
    "abs_err = z - approx            # zum plotten des Absolutfehlers"
   ]
  },
  {
   "cell_type": "markdown",
   "metadata": {},
   "source": [
    "### Visualisierung der Daten"
   ]
  },
  {
   "cell_type": "code",
   "execution_count": 4,
   "metadata": {
    "scrolled": false
   },
   "outputs": [
    {
     "data": {
      "application/vnd.jupyter.widget-view+json": {
       "model_id": "a0d4fb4673ab40ee9efa68772dde3982",
       "version_major": 2,
       "version_minor": 0
      },
      "text/plain": [
       "FigureCanvasNbAgg()"
      ]
     },
     "metadata": {},
     "output_type": "display_data"
    }
   ],
   "source": [
    "fig = plt.figure()\n",
    "ax1 = fig.add_subplot(221, projection='3d')\n",
    "surf = ax1.plot_surface(x,y,z, cmap = 'plasma',\n",
    "                       linewidth=0, antialiased=False)\n",
    "ax1.set_title('Original')\n",
    "ax1.set_xlabel('x')\n",
    "ax1.set_ylabel('y')\n",
    "ax1.set_zlabel('Original');\n",
    "\n",
    "ax2 = fig.add_subplot(222, projection='3d')\n",
    "surf = ax2.plot_surface(x,y,approx, cmap = 'plasma',\n",
    "                       linewidth=0, antialiased=False)\n",
    "ax2.set_title('Approximation')\n",
    "ax2.set_xlabel('x')\n",
    "ax2.set_ylabel('y')\n",
    "ax2.set_zlabel('Approximation');\n",
    "\n",
    "ax3 = fig.add_subplot(223, projection='3d')\n",
    "surf = ax3.plot_surface(x,y,abs_err, cmap = 'plasma',\n",
    "                       linewidth=0, antialiased=False)\n",
    "ax3.set_title('Differenz')\n",
    "ax3.set_xlabel('x')\n",
    "ax3.set_ylabel('y')\n",
    "ax3.set_zlabel('Differenz');\n",
    "\n",
    "ax4 = fig.add_subplot(224)\n",
    "ax4.plot(np.arange(epochen),error)\n",
    "ax4.grid(True)\n",
    "ax4.set_xticks([0,epochen/2,epochen])\n",
    "ax4.set_title('Quadratischer Fehler')\n",
    "ax4.set_xlabel('Epoche')\n",
    "ax4.set_ylabel('Fehler');\n",
    "\n",
    "fig.subplots_adjust(left=None, bottom=None, right=None, top=None, wspace=0.5, hspace=0.5)"
   ]
  }
 ],
 "metadata": {
  "kernelspec": {
   "display_name": "Python 3",
   "language": "python",
   "name": "python3"
  },
  "language_info": {
   "codemirror_mode": {
    "name": "ipython",
    "version": 3
   },
   "file_extension": ".py",
   "mimetype": "text/x-python",
   "name": "python",
   "nbconvert_exporter": "python",
   "pygments_lexer": "ipython3",
   "version": "3.7.3"
  }
 },
 "nbformat": 4,
 "nbformat_minor": 2
}
