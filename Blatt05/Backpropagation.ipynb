{
 "cells": [
  {
   "cell_type": "markdown",
   "metadata": {},
   "source": [
    "# Backpropagation\n",
    "Hier wollen wir nun Backpropagation selbst implementieren... "
   ]
  },
  {
   "cell_type": "code",
   "execution_count": 1,
   "metadata": {},
   "outputs": [],
   "source": [
    "%matplotlib widget\n",
    "from mpl_toolkits.mplot3d import axes3d\n",
    "import matplotlib.pyplot as plt\n",
    "import numpy as np\n",
    "np.random.seed(42)"
   ]
  },
  {
   "cell_type": "markdown",
   "metadata": {},
   "source": [
    "### Funktionen"
   ]
  },
  {
   "cell_type": "code",
   "execution_count": 2,
   "metadata": {},
   "outputs": [],
   "source": [
    "def forward(inpX, w1, w2, b1, b2):\n",
    "    '''\n",
    "    Perform a forward step of the network. For the transfer function in the hidden layer, use tanh.\n",
    "    \n",
    "    Parameters\n",
    "    ----------\n",
    "    inpX : data matrix\n",
    "        input matrix, shaped as: samples x dimensions\n",
    "    w1 : matrix\n",
    "        weight matrix between input and hidden neurons\n",
    "    w2 : matrix\n",
    "        weight matrix between hidden and output neurons\n",
    "    b1 : vector\n",
    "        bias vector for the hidden neurons\n",
    "    b2 : vector\n",
    "        bias vector for the output neurons\n",
    "    '''\n",
    "    return \n",
    "\n",
    "def initialize_weights(inpDim, hiddenNeurons, outDim):\n",
    "    '''\n",
    "    Initialize the weight matrix based on input Dimension, amount of hidden neurons and output dimension.\n",
    "    The range for the initial weights is given by [-.5; .5].\n",
    "    \n",
    "    Parameters\n",
    "    ----------\n",
    "    inpDim : int\n",
    "        Number of input neurons\n",
    "    hiddenNeurons : int\n",
    "        Number of hidden neurons\n",
    "    outDim : int\n",
    "        Number of output neurons\n",
    "    weights : list\n",
    "        List containing the weights and biases in the following order: [w1, w2, b1, b2]\n",
    "    '''\n",
    "    return weights\n",
    "\n",
    "def prop_error(T, y2, w2, transDiff_u1):\n",
    "    '''\n",
    "    Calculation of the error of the network\n",
    "    \n",
    "    Parameters\n",
    "    ----------\n",
    "    T : float\n",
    "        teaching signal of the current sample\n",
    "    y2 : float\n",
    "        output of the last neuron\n",
    "    w2 : data matrix\n",
    "        weight matrix between hidden and output layer\n",
    "    transDiff_u1 : vector\n",
    "        differential of the transfer function used on u1\n",
    "    '''\n",
    "    return \n",
    "\n",
    "def training(hiddenNeurons, lernRate, inpX, outT, epoch):\n",
    "    '''\n",
    "    Train the neural network. \n",
    "    \n",
    "    Parameters\n",
    "    ----------\n",
    "    hiddenNeurons : int\n",
    "        Number of hidden Neurons\n",
    "    lernRate : float\n",
    "        Lernrate \\eta\n",
    "    inpX : data matrix\n",
    "        input data and shaped as: samples x dimensions \n",
    "    outT : vector\n",
    "        teaching signal: one dimensional vector\n",
    "    epoch : int\n",
    "        number of training epochs\n",
    "    '''\n",
    "    return "
   ]
  },
  {
   "cell_type": "markdown",
   "metadata": {},
   "source": [
    "### Initialiserung der Parameter.\n",
    "- X und Y entsprechen dem Datensatz\n",
    "- Z ist das Lehrersignal"
   ]
  },
  {
   "cell_type": "code",
   "execution_count": 3,
   "metadata": {},
   "outputs": [],
   "source": [
    "############\n",
    "## Generate some sample data\n",
    "def f(x,y):\n",
    "    return np.sin(np.sqrt(x**2 + y**2)) + np.cos(.9*(x-y))\n",
    "\n",
    "X = np.linspace(-6, 6, 30)\n",
    "Y = np.linspace(-6, 6, 30)\n",
    "x, y = np.meshgrid(X, Y)\n",
    "z = f(x, y)\n",
    "\n",
    "############\n",
    "## Initialize network parameter\n",
    "hiddenNeuronen = 100\n",
    "lernRate       = 0.01\n",
    "epochen        = 1000"
   ]
  },
  {
   "cell_type": "markdown",
   "metadata": {},
   "source": [
    "### Visualisierung der Daten"
   ]
  },
  {
   "cell_type": "code",
   "execution_count": 4,
   "metadata": {
    "scrolled": false
   },
   "outputs": [
    {
     "data": {
      "application/vnd.jupyter.widget-view+json": {
       "model_id": "362ff9ae539a479aa4c9826d607d43df",
       "version_major": 2,
       "version_minor": 0
      },
      "text/plain": [
       "FigureCanvasNbAgg()"
      ]
     },
     "metadata": {},
     "output_type": "display_data"
    }
   ],
   "source": [
    "fig = plt.figure()\n",
    "ax1 = fig.add_subplot(111, projection='3d')\n",
    "surf = ax1.plot_surface(x,y,z, cmap = 'plasma',\n",
    "                       linewidth=0, antialiased=False)\n",
    "ax1.set_title('Original')\n",
    "ax1.set_xlabel('x')\n",
    "ax1.set_ylabel('y')\n",
    "ax1.set_zlabel('Original');"
   ]
  },
  {
   "cell_type": "code",
   "execution_count": null,
   "metadata": {},
   "outputs": [],
   "source": []
  }
 ],
 "metadata": {
  "kernelspec": {
   "display_name": "Python 3",
   "language": "python",
   "name": "python3"
  },
  "language_info": {
   "codemirror_mode": {
    "name": "ipython",
    "version": 3
   },
   "file_extension": ".py",
   "mimetype": "text/x-python",
   "name": "python",
   "nbconvert_exporter": "python",
   "pygments_lexer": "ipython3",
   "version": "3.7.3"
  }
 },
 "nbformat": 4,
 "nbformat_minor": 2
}
